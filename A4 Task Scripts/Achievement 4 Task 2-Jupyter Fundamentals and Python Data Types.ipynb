{
 "cells": [
  {
   "cell_type": "markdown",
   "id": "d62a58e2",
   "metadata": {},
   "source": [
    "# 01. Importing Libraries"
   ]
  },
  {
   "cell_type": "markdown",
   "id": "2210bbef",
   "metadata": {},
   "source": [
    "# Contents\n",
    "1. Import Libaries\n",
    "2. Exploration of Python Data Types"
   ]
  },
  {
   "cell_type": "code",
   "execution_count": null,
   "id": "b45c73c0",
   "metadata": {},
   "outputs": [],
   "source": [
    "# Import libraries\n",
    "import pandas as pd\n",
    "import numpy as np\n",
    "import os"
   ]
  },
  {
   "cell_type": "markdown",
   "id": "5391bfaf",
   "metadata": {},
   "source": [
    "# 02. Python Data Types"
   ]
  },
  {
   "cell_type": "code",
   "execution_count": 2,
   "id": "bbe3716f",
   "metadata": {},
   "outputs": [],
   "source": [
    "x = 50"
   ]
  },
  {
   "cell_type": "code",
   "execution_count": 3,
   "id": "e9f8960c",
   "metadata": {},
   "outputs": [],
   "source": [
    "y = 50"
   ]
  },
  {
   "cell_type": "code",
   "execution_count": 4,
   "id": "029c93bb",
   "metadata": {},
   "outputs": [
    {
     "name": "stdout",
     "output_type": "stream",
     "text": [
      "100\n"
     ]
    }
   ],
   "source": [
    "print(x+y)"
   ]
  },
  {
   "cell_type": "code",
   "execution_count": 5,
   "id": "69abeb2b",
   "metadata": {},
   "outputs": [],
   "source": [
    "x = 75"
   ]
  },
  {
   "cell_type": "code",
   "execution_count": 6,
   "id": "f8452e0d",
   "metadata": {},
   "outputs": [
    {
     "name": "stdout",
     "output_type": "stream",
     "text": [
      "100\n"
     ]
    }
   ],
   "source": [
    "print(x+25)"
   ]
  },
  {
   "cell_type": "code",
   "execution_count": 7,
   "id": "6b1c0954",
   "metadata": {},
   "outputs": [],
   "source": [
    "y = 50.50"
   ]
  },
  {
   "cell_type": "code",
   "execution_count": 8,
   "id": "f0285234",
   "metadata": {},
   "outputs": [],
   "source": [
    "x = 49.50"
   ]
  },
  {
   "cell_type": "code",
   "execution_count": 9,
   "id": "88129931",
   "metadata": {},
   "outputs": [
    {
     "name": "stdout",
     "output_type": "stream",
     "text": [
      "100.0\n"
     ]
    }
   ],
   "source": [
    "print (x + y)"
   ]
  },
  {
   "cell_type": "code",
   "execution_count": 10,
   "id": "d546da2a",
   "metadata": {},
   "outputs": [],
   "source": [
    "x = 20.2532"
   ]
  },
  {
   "cell_type": "code",
   "execution_count": 11,
   "id": "34c277e9",
   "metadata": {},
   "outputs": [],
   "source": [
    "y = 53.232"
   ]
  },
  {
   "cell_type": "code",
   "execution_count": 12,
   "id": "db65cf8d",
   "metadata": {},
   "outputs": [
    {
     "name": "stdout",
     "output_type": "stream",
     "text": [
      "0.3804703937481214\n"
     ]
    }
   ],
   "source": [
    "print (x/y)"
   ]
  },
  {
   "cell_type": "code",
   "execution_count": 14,
   "id": "7e2ff969",
   "metadata": {},
   "outputs": [],
   "source": [
    "a = 'f'"
   ]
  },
  {
   "cell_type": "code",
   "execution_count": 15,
   "id": "ed6526c6",
   "metadata": {},
   "outputs": [],
   "source": [
    "b = 'u'"
   ]
  },
  {
   "cell_type": "code",
   "execution_count": 16,
   "id": "e5d0efc3",
   "metadata": {},
   "outputs": [],
   "source": [
    "c = 'n'"
   ]
  },
  {
   "cell_type": "code",
   "execution_count": 17,
   "id": "9f736330",
   "metadata": {},
   "outputs": [
    {
     "name": "stdout",
     "output_type": "stream",
     "text": [
      "fun\n"
     ]
    }
   ],
   "source": [
    "print (a + b +c)"
   ]
  },
  {
   "cell_type": "code",
   "execution_count": 18,
   "id": "58f310f7",
   "metadata": {},
   "outputs": [],
   "source": [
    "h = 'I went '"
   ]
  },
  {
   "cell_type": "code",
   "execution_count": 19,
   "id": "a2bc9174",
   "metadata": {},
   "outputs": [],
   "source": [
    "i = 'to the store.'"
   ]
  },
  {
   "cell_type": "code",
   "execution_count": 20,
   "id": "137b1e24",
   "metadata": {},
   "outputs": [
    {
     "name": "stdout",
     "output_type": "stream",
     "text": [
      "I went to the store.\n"
     ]
    }
   ],
   "source": [
    "print (h + i)"
   ]
  },
  {
   "cell_type": "code",
   "execution_count": 21,
   "id": "dde63f09",
   "metadata": {},
   "outputs": [],
   "source": [
    "k = 'It is cold '"
   ]
  },
  {
   "cell_type": "code",
   "execution_count": 24,
   "id": "332ed7bd",
   "metadata": {},
   "outputs": [],
   "source": [
    "l = 'outside.'"
   ]
  },
  {
   "cell_type": "code",
   "execution_count": 25,
   "id": "a7fbd271",
   "metadata": {},
   "outputs": [
    {
     "name": "stdout",
     "output_type": "stream",
     "text": [
      "It is cold outside.\n"
     ]
    }
   ],
   "source": [
    "print(k + l)"
   ]
  },
  {
   "cell_type": "code",
   "execution_count": null,
   "id": "d039d176",
   "metadata": {},
   "outputs": [],
   "source": []
  }
 ],
 "metadata": {
  "kernelspec": {
   "display_name": "Python 3 (ipykernel)",
   "language": "python",
   "name": "python3"
  },
  "language_info": {
   "codemirror_mode": {
    "name": "ipython",
    "version": 3
   },
   "file_extension": ".py",
   "mimetype": "text/x-python",
   "name": "python",
   "nbconvert_exporter": "python",
   "pygments_lexer": "ipython3",
   "version": "3.9.13"
  }
 },
 "nbformat": 4,
 "nbformat_minor": 5
}
